{
 "cells": [
  {
   "cell_type": "code",
   "execution_count": 2,
   "id": "b0ea12f4",
   "metadata": {},
   "outputs": [],
   "source": [
    "import pandas as pd\n",
    "import numpy as np\n",
    "import pickle\n",
    "import seaborn as sb\n",
    "import matplotlib.pyplot as plt\n",
    "import sklearn\n",
    "import imblearn\n",
    "from imblearn.combine import SMOTETomek\n",
    "from sklearn.ensemble import GradientBoostingClassifier,RandomForestClassifier\n",
    "from sklearn.tree import DecisionTreeClassifier\n",
    "from sklearn.neighbors import KNeighborsClassifier\n",
    "from sklearn.preprocessing import StandardScaler\n",
    "from sklearn.model_selection import train_test_split\n",
    "from sklearn.model_selection import cross_val_score\n",
    "import warnings\n",
    "warnings.filterwarnings('ignore')\n",
    "from sklearn.metrics import accuracy_score,classification_report,confusion_matrix,f1_score"
   ]
  },
  {
   "cell_type": "code",
   "execution_count": 3,
   "id": "f965e5eb",
   "metadata": {},
   "outputs": [
    {
     "data": {
      "text/html": [
       "<div>\n",
       "<style scoped>\n",
       "    .dataframe tbody tr th:only-of-type {\n",
       "        vertical-align: middle;\n",
       "    }\n",
       "\n",
       "    .dataframe tbody tr th {\n",
       "        vertical-align: top;\n",
       "    }\n",
       "\n",
       "    .dataframe thead th {\n",
       "        text-align: right;\n",
       "    }\n",
       "</style>\n",
       "<table border=\"1\" class=\"dataframe\">\n",
       "  <thead>\n",
       "    <tr style=\"text-align: right;\">\n",
       "      <th></th>\n",
       "      <th>Loan_ID</th>\n",
       "      <th>Gender</th>\n",
       "      <th>Married</th>\n",
       "      <th>Dependents</th>\n",
       "      <th>Education</th>\n",
       "      <th>Self_Employed</th>\n",
       "      <th>ApplicantIncome</th>\n",
       "      <th>CoapplicantIncome</th>\n",
       "      <th>LoanAmount</th>\n",
       "      <th>Loan_Amount_Term</th>\n",
       "      <th>Credit_History</th>\n",
       "      <th>Property_Area</th>\n",
       "      <th>Loan_Status</th>\n",
       "    </tr>\n",
       "  </thead>\n",
       "  <tbody>\n",
       "    <tr>\n",
       "      <th>0</th>\n",
       "      <td>LP001002</td>\n",
       "      <td>Male</td>\n",
       "      <td>No</td>\n",
       "      <td>0</td>\n",
       "      <td>Graduate</td>\n",
       "      <td>No</td>\n",
       "      <td>5849</td>\n",
       "      <td>0.0</td>\n",
       "      <td>NaN</td>\n",
       "      <td>360.0</td>\n",
       "      <td>1.0</td>\n",
       "      <td>Urban</td>\n",
       "      <td>Y</td>\n",
       "    </tr>\n",
       "    <tr>\n",
       "      <th>1</th>\n",
       "      <td>LP001003</td>\n",
       "      <td>Male</td>\n",
       "      <td>Yes</td>\n",
       "      <td>1</td>\n",
       "      <td>Graduate</td>\n",
       "      <td>No</td>\n",
       "      <td>4583</td>\n",
       "      <td>1508.0</td>\n",
       "      <td>128.0</td>\n",
       "      <td>360.0</td>\n",
       "      <td>1.0</td>\n",
       "      <td>Rural</td>\n",
       "      <td>N</td>\n",
       "    </tr>\n",
       "    <tr>\n",
       "      <th>2</th>\n",
       "      <td>LP001005</td>\n",
       "      <td>Male</td>\n",
       "      <td>Yes</td>\n",
       "      <td>0</td>\n",
       "      <td>Graduate</td>\n",
       "      <td>Yes</td>\n",
       "      <td>3000</td>\n",
       "      <td>0.0</td>\n",
       "      <td>66.0</td>\n",
       "      <td>360.0</td>\n",
       "      <td>1.0</td>\n",
       "      <td>Urban</td>\n",
       "      <td>Y</td>\n",
       "    </tr>\n",
       "    <tr>\n",
       "      <th>3</th>\n",
       "      <td>LP001006</td>\n",
       "      <td>Male</td>\n",
       "      <td>Yes</td>\n",
       "      <td>0</td>\n",
       "      <td>Not Graduate</td>\n",
       "      <td>No</td>\n",
       "      <td>2583</td>\n",
       "      <td>2358.0</td>\n",
       "      <td>120.0</td>\n",
       "      <td>360.0</td>\n",
       "      <td>1.0</td>\n",
       "      <td>Urban</td>\n",
       "      <td>Y</td>\n",
       "    </tr>\n",
       "    <tr>\n",
       "      <th>4</th>\n",
       "      <td>LP001008</td>\n",
       "      <td>Male</td>\n",
       "      <td>No</td>\n",
       "      <td>0</td>\n",
       "      <td>Graduate</td>\n",
       "      <td>No</td>\n",
       "      <td>6000</td>\n",
       "      <td>0.0</td>\n",
       "      <td>141.0</td>\n",
       "      <td>360.0</td>\n",
       "      <td>1.0</td>\n",
       "      <td>Urban</td>\n",
       "      <td>Y</td>\n",
       "    </tr>\n",
       "  </tbody>\n",
       "</table>\n",
       "</div>"
      ],
      "text/plain": [
       "    Loan_ID Gender Married Dependents     Education Self_Employed  \\\n",
       "0  LP001002   Male      No          0      Graduate            No   \n",
       "1  LP001003   Male     Yes          1      Graduate            No   \n",
       "2  LP001005   Male     Yes          0      Graduate           Yes   \n",
       "3  LP001006   Male     Yes          0  Not Graduate            No   \n",
       "4  LP001008   Male      No          0      Graduate            No   \n",
       "\n",
       "   ApplicantIncome  CoapplicantIncome  LoanAmount  Loan_Amount_Term  \\\n",
       "0             5849                0.0         NaN             360.0   \n",
       "1             4583             1508.0       128.0             360.0   \n",
       "2             3000                0.0        66.0             360.0   \n",
       "3             2583             2358.0       120.0             360.0   \n",
       "4             6000                0.0       141.0             360.0   \n",
       "\n",
       "   Credit_History Property_Area Loan_Status  \n",
       "0             1.0         Urban           Y  \n",
       "1             1.0         Rural           N  \n",
       "2             1.0         Urban           Y  \n",
       "3             1.0         Urban           Y  \n",
       "4             1.0         Urban           Y  "
      ]
     },
     "execution_count": 3,
     "metadata": {},
     "output_type": "execute_result"
    }
   ],
   "source": [
    "ds=pd.read_csv(\"C:\\loan_prediction.csv\")\n",
    "ds.head()"
   ]
  },
  {
   "cell_type": "code",
   "execution_count": 4,
   "id": "b8275b46",
   "metadata": {},
   "outputs": [
    {
     "name": "stdout",
     "output_type": "stream",
     "text": [
      "<class 'pandas.core.frame.DataFrame'>\n",
      "RangeIndex: 614 entries, 0 to 613\n",
      "Data columns (total 13 columns):\n",
      " #   Column             Non-Null Count  Dtype  \n",
      "---  ------             --------------  -----  \n",
      " 0   Loan_ID            614 non-null    object \n",
      " 1   Gender             601 non-null    object \n",
      " 2   Married            611 non-null    object \n",
      " 3   Dependents         599 non-null    object \n",
      " 4   Education          614 non-null    object \n",
      " 5   Self_Employed      582 non-null    object \n",
      " 6   ApplicantIncome    614 non-null    int64  \n",
      " 7   CoapplicantIncome  614 non-null    float64\n",
      " 8   LoanAmount         592 non-null    float64\n",
      " 9   Loan_Amount_Term   600 non-null    float64\n",
      " 10  Credit_History     564 non-null    float64\n",
      " 11  Property_Area      614 non-null    object \n",
      " 12  Loan_Status        614 non-null    object \n",
      "dtypes: float64(4), int64(1), object(8)\n",
      "memory usage: 62.5+ KB\n"
     ]
    }
   ],
   "source": [
    "ds.info()"
   ]
  },
  {
   "cell_type": "code",
   "execution_count": 5,
   "id": "af693d41",
   "metadata": {},
   "outputs": [
    {
     "data": {
      "text/plain": [
       "(614, 13)"
      ]
     },
     "execution_count": 5,
     "metadata": {},
     "output_type": "execute_result"
    }
   ],
   "source": [
    "ds.shape"
   ]
  },
  {
   "cell_type": "markdown",
   "id": "60d116f5",
   "metadata": {},
   "source": [
    "# Checking for Null values"
   ]
  },
  {
   "cell_type": "code",
   "execution_count": 6,
   "id": "47b1c913",
   "metadata": {},
   "outputs": [
    {
     "data": {
      "text/plain": [
       "Loan_ID               0\n",
       "Gender               13\n",
       "Married               3\n",
       "Dependents           15\n",
       "Education             0\n",
       "Self_Employed        32\n",
       "ApplicantIncome       0\n",
       "CoapplicantIncome     0\n",
       "LoanAmount           22\n",
       "Loan_Amount_Term     14\n",
       "Credit_History       50\n",
       "Property_Area         0\n",
       "Loan_Status           0\n",
       "dtype: int64"
      ]
     },
     "execution_count": 6,
     "metadata": {},
     "output_type": "execute_result"
    }
   ],
   "source": [
    "ds.isnull().sum()"
   ]
  },
  {
   "cell_type": "code",
   "execution_count": 23,
   "id": "ff72e79e",
   "metadata": {},
   "outputs": [],
   "source": [
    "#replacing null values\n",
    "ds['Self_Employed']=ds['Self_Employed'].fillna(ds['Self_Employed'].mode()[0])\n",
    "ds['Gender'] = ds['Gender'].fillna(ds['Gender'].mode()[0])\n",
    "ds['Married']=ds['Married'].fillna(ds['Married'].mode()[0])\n",
    "ds['Dependents'] = ds['Dependents'].str.replace('+','')\n",
    "ds['Dependents']=ds['Dependents'].fillna(ds['Dependents'].mode()[0])\n",
    "ds['Self_Employed']=ds['Self_Employed'].fillna(ds['Self_Employed'].mode()[0])\n",
    "ds['LoanAmount']=ds['LoanAmount'].fillna(ds['LoanAmount'].mode()[0])\n",
    "ds['Loan_Amount_Term']=ds['Loan_Amount_Term'].fillna(ds['Loan_Amount_Term'].mode()[0])\n",
    "ds['Credit_History']=ds['Credit_History'].fillna(ds['Credit_History'].mode()[0])"
   ]
  },
  {
   "cell_type": "markdown",
   "id": "164743c4",
   "metadata": {},
   "source": [
    "# Handling Categorical Values"
   ]
  },
  {
   "cell_type": "code",
   "execution_count": 24,
   "id": "f487e0a7",
   "metadata": {},
   "outputs": [
    {
     "data": {
      "text/plain": [
       "array([1, 0], dtype=int64)"
      ]
     },
     "execution_count": 24,
     "metadata": {},
     "output_type": "execute_result"
    }
   ],
   "source": [
    "ds['Loan_Status'].unique()"
   ]
  },
  {
   "cell_type": "code",
   "execution_count": 25,
   "id": "02d56eb5",
   "metadata": {},
   "outputs": [
    {
     "data": {
      "text/plain": [
       "array([1, 0], dtype=int64)"
      ]
     },
     "execution_count": 25,
     "metadata": {},
     "output_type": "execute_result"
    }
   ],
   "source": [
    "ds['Education'].unique()"
   ]
  },
  {
   "cell_type": "code",
   "execution_count": 26,
   "id": "dcabb60c",
   "metadata": {},
   "outputs": [
    {
     "data": {
      "text/plain": [
       "array([0, 1], dtype=int64)"
      ]
     },
     "execution_count": 26,
     "metadata": {},
     "output_type": "execute_result"
    }
   ],
   "source": [
    "ds['Self_Employed'].unique()"
   ]
  },
  {
   "cell_type": "code",
   "execution_count": 27,
   "id": "97f38197",
   "metadata": {},
   "outputs": [
    {
     "data": {
      "text/plain": [
       "array(['3'], dtype=object)"
      ]
     },
     "execution_count": 27,
     "metadata": {},
     "output_type": "execute_result"
    }
   ],
   "source": [
    "ds['Dependents'].unique()"
   ]
  },
  {
   "cell_type": "code",
   "execution_count": 28,
   "id": "24308c8d",
   "metadata": {},
   "outputs": [
    {
     "data": {
      "text/plain": [
       "array([0, 1], dtype=int64)"
      ]
     },
     "execution_count": 28,
     "metadata": {},
     "output_type": "execute_result"
    }
   ],
   "source": [
    "ds['Married'].unique()"
   ]
  },
  {
   "cell_type": "code",
   "execution_count": 29,
   "id": "d55c3f9c",
   "metadata": {},
   "outputs": [
    {
     "data": {
      "text/plain": [
       "array([1, 0], dtype=int64)"
      ]
     },
     "execution_count": 29,
     "metadata": {},
     "output_type": "execute_result"
    }
   ],
   "source": [
    "ds['Gender'].unique()"
   ]
  },
  {
   "cell_type": "code",
   "execution_count": 30,
   "id": "3ceec505",
   "metadata": {},
   "outputs": [
    {
     "data": {
      "text/plain": [
       "array([1, 0], dtype=int64)"
      ]
     },
     "execution_count": 30,
     "metadata": {},
     "output_type": "execute_result"
    }
   ],
   "source": [
    "ds['Loan_Status'].unique()"
   ]
  },
  {
   "cell_type": "code",
   "execution_count": 31,
   "id": "15a4877e",
   "metadata": {},
   "outputs": [
    {
     "data": {
      "text/plain": [
       "array([2, 0, 1], dtype=int64)"
      ]
     },
     "execution_count": 31,
     "metadata": {},
     "output_type": "execute_result"
    }
   ],
   "source": [
    "ds['Property_Area'].unique()"
   ]
  },
  {
   "cell_type": "code",
   "execution_count": 32,
   "id": "dad2514f",
   "metadata": {},
   "outputs": [],
   "source": [
    "ds['Loan_Status'].replace({'Y':1,'N':0},inplace=True)\n",
    "ds['Education'].replace({'Graduate':1,'Not Graduate':0},inplace=True)\n",
    "ds['Self_Employed'].replace({'Yes':1,'No':0},inplace=True)\n",
    "ds['Dependents'].replace({'0':0,'1':1,'2':2,'3':3},inplace=True)\n",
    "ds['Gender'].replace({'Male':1,'Female':0},inplace=True)\n",
    "ds['Married'].replace({'Yes':1,'No':0},inplace=True)\n",
    "ds['Loan_Status'].replace({'Y':1,'N':0},inplace=True)\n",
    "ds['Property_Area'].replace({'Urban':2,'Rural':0,'Semiurban':1},inplace=True)"
   ]
  },
  {
   "cell_type": "code",
   "execution_count": 33,
   "id": "3a78f589",
   "metadata": {},
   "outputs": [],
   "source": [
    "ds['CoapplicantIncome']=ds['CoapplicantIncome'].astype(\"int64\")\n",
    "ds['LoanAmount']=ds['LoanAmount'].astype(\"int64\")\n",
    "ds['Loan_Amount_Term']=ds['Loan_Amount_Term'].astype(\"int64\")\n",
    "ds['Credit_History']=ds['Credit_History'].astype(\"int64\")\n",
    "ds['Dependents'] = ds['Dependents'].fillna(ds['Dependents'].mode()[0])\n",
    "ds['Dependents'] = ds['Dependents'].astype(\"int64\")\n",
    "ds['Self_Employed']=ds['Self_Employed'].astype(\"int64\")\n",
    "ds['Gender'] = ds['Gender'].astype(\"int64\")\n",
    "ds['Married']=ds['Married'].astype(\"int64\")"
   ]
  },
  {
   "cell_type": "code",
   "execution_count": 34,
   "id": "3927c97b",
   "metadata": {},
   "outputs": [],
   "source": [
    "from sklearn.preprocessing import LabelEncoder\n",
    "le = LabelEncoder()\n",
    "ds['Loan_ID'] = le.fit_transform(ds.Loan_ID)"
   ]
  },
  {
   "cell_type": "markdown",
   "id": "c893cdf8",
   "metadata": {},
   "source": [
    "# Balancing Dataset"
   ]
  },
  {
   "cell_type": "code",
   "execution_count": 35,
   "id": "ea199a33",
   "metadata": {},
   "outputs": [],
   "source": [
    "sm=SMOTETomek(0.90)"
   ]
  },
  {
   "cell_type": "code",
   "execution_count": 36,
   "id": "4bad2255",
   "metadata": {},
   "outputs": [],
   "source": [
    "y = ds['Loan_Status']\n",
    "x = ds.drop(columns=['Loan_Status'],axis=1)"
   ]
  },
  {
   "cell_type": "code",
   "execution_count": 37,
   "id": "b85c9fe5",
   "metadata": {
    "scrolled": true
   },
   "outputs": [],
   "source": [
    "xb,yb = sm.fit_resample(x,y)"
   ]
  },
  {
   "cell_type": "code",
   "execution_count": 38,
   "id": "6e0676e8",
   "metadata": {},
   "outputs": [
    {
     "name": "stdout",
     "output_type": "stream",
     "text": [
      "1    422\n",
      "0    192\n",
      "Name: Loan_Status, dtype: int64\n"
     ]
    }
   ],
   "source": [
    "print(y.value_counts())"
   ]
  },
  {
   "cell_type": "code",
   "execution_count": 39,
   "id": "f22d47d2",
   "metadata": {},
   "outputs": [
    {
     "name": "stdout",
     "output_type": "stream",
     "text": [
      "1    362\n",
      "0    319\n",
      "Name: Loan_Status, dtype: int64\n"
     ]
    }
   ],
   "source": [
    "print(yb.value_counts())"
   ]
  },
  {
   "cell_type": "markdown",
   "id": "b4c5d434",
   "metadata": {},
   "source": [
    "# Scaling The Data"
   ]
  },
  {
   "cell_type": "code",
   "execution_count": 41,
   "id": "4039d272",
   "metadata": {},
   "outputs": [],
   "source": [
    "sc=StandardScaler()"
   ]
  },
  {
   "cell_type": "code",
   "execution_count": 42,
   "id": "43f37bed",
   "metadata": {},
   "outputs": [],
   "source": [
    "xb=sc.fit_transform(xb)"
   ]
  },
  {
   "cell_type": "code",
   "execution_count": 43,
   "id": "c4847c47",
   "metadata": {},
   "outputs": [],
   "source": [
    "xb=pd.DataFrame(xb)"
   ]
  },
  {
   "cell_type": "code",
   "execution_count": 44,
   "id": "40387542",
   "metadata": {},
   "outputs": [
    {
     "data": {
      "text/html": [
       "<div>\n",
       "<style scoped>\n",
       "    .dataframe tbody tr th:only-of-type {\n",
       "        vertical-align: middle;\n",
       "    }\n",
       "\n",
       "    .dataframe tbody tr th {\n",
       "        vertical-align: top;\n",
       "    }\n",
       "\n",
       "    .dataframe thead th {\n",
       "        text-align: right;\n",
       "    }\n",
       "</style>\n",
       "<table border=\"1\" class=\"dataframe\">\n",
       "  <thead>\n",
       "    <tr style=\"text-align: right;\">\n",
       "      <th></th>\n",
       "      <th>0</th>\n",
       "      <th>1</th>\n",
       "      <th>2</th>\n",
       "      <th>3</th>\n",
       "      <th>4</th>\n",
       "      <th>5</th>\n",
       "      <th>6</th>\n",
       "      <th>7</th>\n",
       "      <th>8</th>\n",
       "      <th>9</th>\n",
       "      <th>10</th>\n",
       "      <th>11</th>\n",
       "    </tr>\n",
       "  </thead>\n",
       "  <tbody>\n",
       "    <tr>\n",
       "      <th>0</th>\n",
       "      <td>-1.787289</td>\n",
       "      <td>0.540574</td>\n",
       "      <td>-1.211359</td>\n",
       "      <td>0.0</td>\n",
       "      <td>0.612991</td>\n",
       "      <td>-0.338476</td>\n",
       "      <td>0.095794</td>\n",
       "      <td>-0.536480</td>\n",
       "      <td>-0.289258</td>\n",
       "      <td>0.270914</td>\n",
       "      <td>0.617526</td>\n",
       "      <td>1.322907</td>\n",
       "    </tr>\n",
       "    <tr>\n",
       "      <th>1</th>\n",
       "      <td>-1.781442</td>\n",
       "      <td>0.540574</td>\n",
       "      <td>0.825519</td>\n",
       "      <td>0.0</td>\n",
       "      <td>0.612991</td>\n",
       "      <td>-0.338476</td>\n",
       "      <td>-0.103420</td>\n",
       "      <td>-0.039867</td>\n",
       "      <td>-0.183488</td>\n",
       "      <td>0.270914</td>\n",
       "      <td>0.617526</td>\n",
       "      <td>-1.262171</td>\n",
       "    </tr>\n",
       "    <tr>\n",
       "      <th>2</th>\n",
       "      <td>-1.775595</td>\n",
       "      <td>0.540574</td>\n",
       "      <td>0.825519</td>\n",
       "      <td>0.0</td>\n",
       "      <td>0.612991</td>\n",
       "      <td>2.954416</td>\n",
       "      <td>-0.352515</td>\n",
       "      <td>-0.536480</td>\n",
       "      <td>-1.003212</td>\n",
       "      <td>0.270914</td>\n",
       "      <td>0.617526</td>\n",
       "      <td>1.322907</td>\n",
       "    </tr>\n",
       "    <tr>\n",
       "      <th>3</th>\n",
       "      <td>-1.769748</td>\n",
       "      <td>0.540574</td>\n",
       "      <td>0.825519</td>\n",
       "      <td>0.0</td>\n",
       "      <td>-1.631346</td>\n",
       "      <td>-0.338476</td>\n",
       "      <td>-0.418133</td>\n",
       "      <td>0.240054</td>\n",
       "      <td>-0.289258</td>\n",
       "      <td>0.270914</td>\n",
       "      <td>0.617526</td>\n",
       "      <td>1.322907</td>\n",
       "    </tr>\n",
       "    <tr>\n",
       "      <th>4</th>\n",
       "      <td>-1.763901</td>\n",
       "      <td>0.540574</td>\n",
       "      <td>-1.211359</td>\n",
       "      <td>0.0</td>\n",
       "      <td>0.612991</td>\n",
       "      <td>-0.338476</td>\n",
       "      <td>0.119555</td>\n",
       "      <td>-0.536480</td>\n",
       "      <td>-0.011610</td>\n",
       "      <td>0.270914</td>\n",
       "      <td>0.617526</td>\n",
       "      <td>1.322907</td>\n",
       "    </tr>\n",
       "  </tbody>\n",
       "</table>\n",
       "</div>"
      ],
      "text/plain": [
       "         0         1         2    3         4         5         6         7   \\\n",
       "0 -1.787289  0.540574 -1.211359  0.0  0.612991 -0.338476  0.095794 -0.536480   \n",
       "1 -1.781442  0.540574  0.825519  0.0  0.612991 -0.338476 -0.103420 -0.039867   \n",
       "2 -1.775595  0.540574  0.825519  0.0  0.612991  2.954416 -0.352515 -0.536480   \n",
       "3 -1.769748  0.540574  0.825519  0.0 -1.631346 -0.338476 -0.418133  0.240054   \n",
       "4 -1.763901  0.540574 -1.211359  0.0  0.612991 -0.338476  0.119555 -0.536480   \n",
       "\n",
       "         8         9         10        11  \n",
       "0 -0.289258  0.270914  0.617526  1.322907  \n",
       "1 -0.183488  0.270914  0.617526 -1.262171  \n",
       "2 -1.003212  0.270914  0.617526  1.322907  \n",
       "3 -0.289258  0.270914  0.617526  1.322907  \n",
       "4 -0.011610  0.270914  0.617526  1.322907  "
      ]
     },
     "execution_count": 44,
     "metadata": {},
     "output_type": "execute_result"
    }
   ],
   "source": [
    "xb.head()"
   ]
  },
  {
   "cell_type": "markdown",
   "id": "6aac0f18",
   "metadata": {},
   "source": [
    "# Splitting Data Into Train And Test"
   ]
  },
  {
   "cell_type": "code",
   "execution_count": 45,
   "id": "8c9a47e6",
   "metadata": {},
   "outputs": [],
   "source": [
    "x_train, x_test, y_train, y_test = train_test_split(xb, yb, test_size = 0.33, random_state = 42)"
   ]
  },
  {
   "cell_type": "code",
   "execution_count": 46,
   "id": "dabdbcc6",
   "metadata": {},
   "outputs": [
    {
     "data": {
      "text/plain": [
       "(456, 12)"
      ]
     },
     "execution_count": 46,
     "metadata": {},
     "output_type": "execute_result"
    }
   ],
   "source": [
    "x_train.shape"
   ]
  },
  {
   "cell_type": "code",
   "execution_count": 47,
   "id": "24a2ea99",
   "metadata": {},
   "outputs": [
    {
     "data": {
      "text/plain": [
       "(225, 12)"
      ]
     },
     "execution_count": 47,
     "metadata": {},
     "output_type": "execute_result"
    }
   ],
   "source": [
    "x_test.shape"
   ]
  },
  {
   "cell_type": "code",
   "execution_count": 48,
   "id": "8749c04b",
   "metadata": {},
   "outputs": [
    {
     "data": {
      "text/plain": [
       "(456,)"
      ]
     },
     "execution_count": 48,
     "metadata": {},
     "output_type": "execute_result"
    }
   ],
   "source": [
    "y_train.shape"
   ]
  },
  {
   "cell_type": "code",
   "execution_count": 49,
   "id": "d9d0909a",
   "metadata": {},
   "outputs": [
    {
     "data": {
      "text/plain": [
       "(225,)"
      ]
     },
     "execution_count": 49,
     "metadata": {},
     "output_type": "execute_result"
    }
   ],
   "source": [
    "y_test.shape"
   ]
  },
  {
   "cell_type": "markdown",
   "id": "e71c702e",
   "metadata": {},
   "source": [
    "# Decision tree model"
   ]
  },
  {
   "cell_type": "code",
   "execution_count": 50,
   "id": "5a23e494",
   "metadata": {},
   "outputs": [],
   "source": [
    "def decisiontree(x_train, x_test, y_train, y_test):\n",
    "    dt=DecisionTreeClassifier()\n",
    "    dt.fit(x_train,y_train)\n",
    "    ypred=dt.predict(x_test)\n",
    "    print(confusion_matrix(y_test,ypred))\n",
    "    print(classification_report(y_test,ypred))"
   ]
  },
  {
   "cell_type": "code",
   "execution_count": 51,
   "id": "34cbb2fd",
   "metadata": {},
   "outputs": [
    {
     "name": "stdout",
     "output_type": "stream",
     "text": [
      "[[71 21]\n",
      " [41 92]]\n",
      "              precision    recall  f1-score   support\n",
      "\n",
      "           0       0.63      0.77      0.70        92\n",
      "           1       0.81      0.69      0.75       133\n",
      "\n",
      "    accuracy                           0.72       225\n",
      "   macro avg       0.72      0.73      0.72       225\n",
      "weighted avg       0.74      0.72      0.73       225\n",
      "\n"
     ]
    }
   ],
   "source": [
    "decisiontree(x_train, x_test, y_train, y_test)"
   ]
  },
  {
   "cell_type": "markdown",
   "id": "05bc0af2",
   "metadata": {},
   "source": [
    "# Random Forest model"
   ]
  },
  {
   "cell_type": "code",
   "execution_count": 52,
   "id": "c0f9b312",
   "metadata": {},
   "outputs": [],
   "source": [
    "def randomforest(x_train, x_test, y_train, y_test):\n",
    "    rf=RandomForestClassifier()\n",
    "    rf.fit(x_train,y_train)\n",
    "    ypred=rf.predict(x_test)\n",
    "    print(confusion_matrix(y_test,ypred))\n",
    "    print(classification_report(y_test,ypred))\n",
    "    "
   ]
  },
  {
   "cell_type": "code",
   "execution_count": 53,
   "id": "c17c6ce5",
   "metadata": {},
   "outputs": [
    {
     "name": "stdout",
     "output_type": "stream",
     "text": [
      "[[ 70  22]\n",
      " [ 12 121]]\n",
      "              precision    recall  f1-score   support\n",
      "\n",
      "           0       0.85      0.76      0.80        92\n",
      "           1       0.85      0.91      0.88       133\n",
      "\n",
      "    accuracy                           0.85       225\n",
      "   macro avg       0.85      0.84      0.84       225\n",
      "weighted avg       0.85      0.85      0.85       225\n",
      "\n"
     ]
    }
   ],
   "source": [
    "randomforest(x_train, x_test, y_train, y_test)"
   ]
  },
  {
   "cell_type": "markdown",
   "id": "e3f6732b",
   "metadata": {},
   "source": [
    "# KNN model"
   ]
  },
  {
   "cell_type": "code",
   "execution_count": 54,
   "id": "ed0b3c19",
   "metadata": {},
   "outputs": [],
   "source": [
    "def knn(x_train, x_test, y_train, y_test):\n",
    "    kn=KNeighborsClassifier()\n",
    "    kn.fit(x_train,y_train)\n",
    "    ypred=kn.predict(x_test)\n",
    "    print(confusion_matrix(y_test,ypred))\n",
    "    print(classification_report(y_test,ypred))\n"
   ]
  },
  {
   "cell_type": "code",
   "execution_count": 55,
   "id": "fec5f5cd",
   "metadata": {},
   "outputs": [
    {
     "name": "stdout",
     "output_type": "stream",
     "text": [
      "[[ 64  28]\n",
      " [ 17 116]]\n",
      "              precision    recall  f1-score   support\n",
      "\n",
      "           0       0.79      0.70      0.74        92\n",
      "           1       0.81      0.87      0.84       133\n",
      "\n",
      "    accuracy                           0.80       225\n",
      "   macro avg       0.80      0.78      0.79       225\n",
      "weighted avg       0.80      0.80      0.80       225\n",
      "\n"
     ]
    }
   ],
   "source": [
    "knn(x_train, x_test, y_train, y_test)"
   ]
  },
  {
   "cell_type": "markdown",
   "id": "cc12aeb9",
   "metadata": {},
   "source": [
    "# Xgboost model"
   ]
  },
  {
   "cell_type": "code",
   "execution_count": 56,
   "id": "37f13213",
   "metadata": {},
   "outputs": [],
   "source": [
    "def xgboost(x_train, x_test, y_train, y_test):\n",
    "    xg=GradientBoostingClassifier()\n",
    "    xg.fit(x_train,y_train)\n",
    "    ypred=xg.predict(x_test)\n",
    "    print(confusion_matrix(y_test,ypred))\n",
    "    print(classification_report(y_test,ypred))"
   ]
  },
  {
   "cell_type": "code",
   "execution_count": 57,
   "id": "8c5b4adb",
   "metadata": {},
   "outputs": [
    {
     "name": "stdout",
     "output_type": "stream",
     "text": [
      "[[ 69  23]\n",
      " [ 10 123]]\n",
      "              precision    recall  f1-score   support\n",
      "\n",
      "           0       0.87      0.75      0.81        92\n",
      "           1       0.84      0.92      0.88       133\n",
      "\n",
      "    accuracy                           0.85       225\n",
      "   macro avg       0.86      0.84      0.84       225\n",
      "weighted avg       0.86      0.85      0.85       225\n",
      "\n"
     ]
    }
   ],
   "source": [
    "xgboost(x_train, x_test, y_train, y_test)"
   ]
  },
  {
   "cell_type": "markdown",
   "id": "8ca3cf6d",
   "metadata": {},
   "source": [
    "# Evaluating performance of model"
   ]
  },
  {
   "cell_type": "code",
   "execution_count": 58,
   "id": "0ab3d9ea",
   "metadata": {},
   "outputs": [],
   "source": [
    "rf=RandomForestClassifier()\n",
    "rf.fit(x_train,y_train)\n",
    "ypred=rf.predict(x_test)"
   ]
  },
  {
   "cell_type": "code",
   "execution_count": 59,
   "id": "a6303a3d",
   "metadata": {},
   "outputs": [
    {
     "data": {
      "text/plain": [
       "0.8547047619047619"
      ]
     },
     "execution_count": 59,
     "metadata": {},
     "output_type": "execute_result"
    }
   ],
   "source": [
    " f1_score(ypred,y_test,average='weighted')"
   ]
  },
  {
   "cell_type": "code",
   "execution_count": 60,
   "id": "89130713",
   "metadata": {},
   "outputs": [],
   "source": [
    "cv=cross_val_score(rf,x,y,cv=5)"
   ]
  },
  {
   "cell_type": "code",
   "execution_count": 61,
   "id": "64a2b798",
   "metadata": {},
   "outputs": [
    {
     "data": {
      "text/plain": [
       "0.7524323603891776"
      ]
     },
     "execution_count": 61,
     "metadata": {},
     "output_type": "execute_result"
    }
   ],
   "source": [
    "np.mean(cv)"
   ]
  },
  {
   "cell_type": "markdown",
   "id": "7cee1e2c",
   "metadata": {},
   "source": [
    "# Saving the model"
   ]
  },
  {
   "cell_type": "code",
   "execution_count": 62,
   "id": "11ecbb5f",
   "metadata": {},
   "outputs": [],
   "source": [
    "pickle.dump(rf,open('rdf.pk1','wb'))"
   ]
  }
 ],
 "metadata": {
  "kernelspec": {
   "display_name": "Python 3 (ipykernel)",
   "language": "python",
   "name": "python3"
  },
  "language_info": {
   "codemirror_mode": {
    "name": "ipython",
    "version": 3
   },
   "file_extension": ".py",
   "mimetype": "text/x-python",
   "name": "python",
   "nbconvert_exporter": "python",
   "pygments_lexer": "ipython3",
   "version": "3.10.3"
  }
 },
 "nbformat": 4,
 "nbformat_minor": 5
}
